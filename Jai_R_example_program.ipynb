{
  "nbformat": 4,
  "nbformat_minor": 0,
  "metadata": {
    "colab": {
      "provenance": [],
      "include_colab_link": true
    },
    "kernelspec": {
      "name": "ir",
      "display_name": "R"
    },
    "language_info": {
      "name": "R"
    }
  },
  "cells": [
    {
      "cell_type": "markdown",
      "metadata": {
        "id": "view-in-github",
        "colab_type": "text"
      },
      "source": [
        "<a href=\"https://colab.research.google.com/github/jayakumar4308/Python-program/blob/main/Jai_R_example_program.ipynb\" target=\"_parent\"><img src=\"https://colab.research.google.com/assets/colab-badge.svg\" alt=\"Open In Colab\"/></a>"
      ]
    },
    {
      "cell_type": "markdown",
      "source": [
        "Vector"
      ],
      "metadata": {
        "id": "O57bBFu7gWgJ"
      }
    },
    {
      "cell_type": "code",
      "source": [
        "# Create a vector.\n",
        "apple <- c('red','green',\"yellow\")\n",
        "print(apple)\n",
        "# Get the class of the vector.\n",
        "print(class(apple))"
      ],
      "metadata": {
        "id": "8RATofNmgf6E"
      },
      "execution_count": null,
      "outputs": []
    },
    {
      "cell_type": "markdown",
      "source": [
        "List"
      ],
      "metadata": {
        "id": "VJkOSU1kglZk"
      }
    },
    {
      "cell_type": "code",
      "source": [
        "# Create a list.\n",
        "list1 <- list(c(2,5,3),21.3,sin)\n",
        "# Print the list.\n",
        "print(list1)"
      ],
      "metadata": {
        "colab": {
          "base_uri": "https://localhost:8080/"
        },
        "id": "QDVXhphkAO5C",
        "outputId": "98ab5acb-375e-426d-b303-e8fe7feebeb7"
      },
      "execution_count": null,
      "outputs": [
        {
          "output_type": "stream",
          "name": "stdout",
          "text": [
            "[[1]]\n",
            "[1] 2 5 3\n",
            "\n",
            "[[2]]\n",
            "[1] 21.3\n",
            "\n",
            "[[3]]\n",
            "function (x)  .Primitive(\"sin\")\n",
            "\n"
          ]
        }
      ]
    },
    {
      "cell_type": "markdown",
      "source": [
        "Matrix"
      ],
      "metadata": {
        "id": "vHP89iGJgqv1"
      }
    },
    {
      "cell_type": "code",
      "source": [
        "# Create a matrix.\n",
        "M = matrix( c('a','a','b','c','b','a'), nrow = 2, ncol = 3, byrow = TRUE)\n",
        "print(M)"
      ],
      "metadata": {
        "colab": {
          "base_uri": "https://localhost:8080/"
        },
        "id": "TAyaaCPyBIAV",
        "outputId": "0ddee185-a587-4522-8e5c-c20bb76d80e8"
      },
      "execution_count": null,
      "outputs": [
        {
          "output_type": "stream",
          "name": "stdout",
          "text": [
            "     [,1] [,2] [,3]\n",
            "[1,] \"a\"  \"a\"  \"b\" \n",
            "[2,] \"c\"  \"b\"  \"a\" \n"
          ]
        }
      ]
    },
    {
      "cell_type": "markdown",
      "source": [
        "Array"
      ],
      "metadata": {
        "id": "uPTuS8xvgtE3"
      }
    },
    {
      "cell_type": "code",
      "source": [
        "# Create an array.\n",
        "a <- array(c('green','yellow'),dim = c(3,3,2))\n",
        "print(a)"
      ],
      "metadata": {
        "colab": {
          "base_uri": "https://localhost:8080/"
        },
        "id": "3v2QXFlOBOWk",
        "outputId": "ee7e04dd-38c6-4d58-87a0-0105269696c2"
      },
      "execution_count": null,
      "outputs": [
        {
          "output_type": "stream",
          "name": "stdout",
          "text": [
            ", , 1\n",
            "\n",
            "     [,1]     [,2]     [,3]    \n",
            "[1,] \"green\"  \"yellow\" \"green\" \n",
            "[2,] \"yellow\" \"green\"  \"yellow\"\n",
            "[3,] \"green\"  \"yellow\" \"green\" \n",
            "\n",
            ", , 2\n",
            "\n",
            "     [,1]     [,2]     [,3]    \n",
            "[1,] \"yellow\" \"green\"  \"yellow\"\n",
            "[2,] \"green\"  \"yellow\" \"green\" \n",
            "[3,] \"yellow\" \"green\"  \"yellow\"\n",
            "\n"
          ]
        }
      ]
    },
    {
      "cell_type": "markdown",
      "source": [
        "Factor"
      ],
      "metadata": {
        "id": "DG1RcwE_gvQ2"
      }
    },
    {
      "cell_type": "code",
      "source": [
        "# it is a factor program\n",
        "# Create a vector.\n",
        "apple_colors <- c('green','green','yellow','red','red','red','green')\n",
        "# Create a factor object.\n",
        "factor_apple <- factor(apple_colors)\n",
        "# Print the factor.\n",
        "print(factor_apple)\n",
        "print(nlevels(factor_apple))"
      ],
      "metadata": {
        "colab": {
          "base_uri": "https://localhost:8080/"
        },
        "id": "8nwPk5S7BaTf",
        "outputId": "f8872680-07db-4d5f-c80c-a346a0da0460"
      },
      "execution_count": null,
      "outputs": [
        {
          "output_type": "stream",
          "name": "stdout",
          "text": [
            "[1] green  green  yellow red    red    red    green \n",
            "Levels: green red yellow\n",
            "[1] 3\n"
          ]
        }
      ]
    },
    {
      "cell_type": "markdown",
      "source": [
        "Data frame"
      ],
      "metadata": {
        "id": "GoLuPawdgw9A"
      }
    },
    {
      "cell_type": "code",
      "source": [
        "# Create the data frame.\n",
        "BMI <- data.frame(\n",
        "gender = c(\"Male\", \"Male\",\"Female\"),\n",
        "height = c(152, 171.5, 165),\n",
        "weight = c(81,93, 78),\n",
        "Age = c(42,38,26)\n",
        ")\n",
        "print(BMI)"
      ],
      "metadata": {
        "colab": {
          "base_uri": "https://localhost:8080/"
        },
        "id": "Rrbs8ETSCNND",
        "outputId": "71aa41d9-ab66-4866-9a55-c8624f40152c"
      },
      "execution_count": null,
      "outputs": [
        {
          "output_type": "stream",
          "name": "stdout",
          "text": [
            "  gender height weight Age\n",
            "1   Male  152.0     81  42\n",
            "2   Male  171.5     93  38\n",
            "3 Female  165.0     78  26\n"
          ]
        }
      ]
    },
    {
      "cell_type": "markdown",
      "source": [
        "Variable Assignment"
      ],
      "metadata": {
        "id": "BiJmQP4Cg6lj"
      }
    },
    {
      "cell_type": "code",
      "source": [
        "# Assignment using equal operator.\n",
        "var.1 = c(0,1,2,3)\n",
        "# Assignment using leftward operator.\n",
        "var.2 <- c(\"learn\",\"R\")\n",
        "# Assignment using rightward operator.\n",
        "c(TRUE,1) -> var.3\n",
        "print(var.1)\n",
        "cat (\"var.1 is \", var.1 ,\"\\n\")\n",
        "cat (\"var.2 is \", var.2 ,\"\\n\")\n",
        "cat (\"var.3 is \", var.3 ,\"\\n\")"
      ],
      "metadata": {
        "colab": {
          "base_uri": "https://localhost:8080/"
        },
        "id": "BDhHnMMiCxHw",
        "outputId": "0c19d2dc-93d2-4ad9-ea59-40057dbbe8af"
      },
      "execution_count": null,
      "outputs": [
        {
          "output_type": "stream",
          "name": "stdout",
          "text": [
            "[1] 0 1 2 3\n",
            "var.1 is  0 1 2 3 \n",
            "var.2 is  learn R \n",
            "var.3 is  1 1 \n"
          ]
        }
      ]
    },
    {
      "cell_type": "markdown",
      "source": [
        "Data Type of a Variable"
      ],
      "metadata": {
        "id": "c1fNF9LchBKu"
      }
    },
    {
      "cell_type": "code",
      "source": [
        "#Data Type of a Variable\n",
        "var_x <- \"Hello\"\n",
        "cat(\"The class of var_x is \",class(var_x),\"\\n\")\n",
        "var_x <- 34.5\n",
        "cat(\" Now the class of var_x is \",class(var_x),\"\\n\")\n",
        "var_x <- 27L\n",
        "cat(\" Next the class of var_x becomes \",class(var_x),\"\\n\")"
      ],
      "metadata": {
        "colab": {
          "base_uri": "https://localhost:8080/"
        },
        "id": "kmeyU26wDB7H",
        "outputId": "48921e0d-7286-47f8-fb32-414a4b7b4660"
      },
      "execution_count": null,
      "outputs": [
        {
          "output_type": "stream",
          "name": "stdout",
          "text": [
            "The class of var_x is  character \n",
            " Now the class of var_x is  numeric \n",
            " Next the class of var_x becomes  integer \n"
          ]
        }
      ]
    },
    {
      "cell_type": "markdown",
      "source": [
        "Arithmetic Operators"
      ],
      "metadata": {
        "id": "7ByMed64VH9D"
      }
    },
    {
      "cell_type": "code",
      "source": [
        "v <- c( 2,5.5,6)\n",
        "t <- c(8, 3, 4)\n",
        "#Adds two vectors\n",
        "print(v+t)\n",
        "#Subtracts second vector from the first\n",
        "print(v-t)\n",
        "#Multiplies both vectors\n",
        "print(v*t)\n",
        "#Divide the first vector with the second\n",
        "print(v/t)\n",
        "#Give the remainder of the first vector with the second\n",
        "print(v%%t)\n",
        "#The result of division of first vector with second (quotient)\n",
        "print(v%/%t)\n",
        "#The first vector raised to the exponent of second vector\n",
        "print(v^t)"
      ],
      "metadata": {
        "colab": {
          "base_uri": "https://localhost:8080/"
        },
        "id": "YBesQxKtDNxf",
        "outputId": "5e08529d-ac30-4c7c-9c31-08346e6e1afc"
      },
      "execution_count": null,
      "outputs": [
        {
          "output_type": "stream",
          "name": "stdout",
          "text": [
            "[1] 10.0  8.5 10.0\n",
            "[1] -6.0  2.5  2.0\n",
            "[1] 16.0 16.5 24.0\n",
            "[1] 0.250000 1.833333 1.500000\n",
            "[1] 2.0 2.5 2.0\n",
            "[1] 0 1 1\n",
            "[1]  256.000  166.375 1296.000\n"
          ]
        }
      ]
    },
    {
      "cell_type": "markdown",
      "source": [
        "Relational Operators"
      ],
      "metadata": {
        "id": "f0KNMcbaVSFO"
      }
    },
    {
      "cell_type": "code",
      "source": [
        "v <- c(2,5.5,6,9)\n",
        "t <- c(8,2.5,14,9)\n",
        "#greater than\n",
        "print(v>t)\n",
        "#less than\n",
        "print(v < t)\n",
        "#is equal to\n",
        "print(v == t)\n",
        "#greater than or equal to\n",
        "print(v>=t)\n",
        "#less than or equal\n",
        "print(v<=t)\n",
        "#not equal to\n",
        "print(v!=t)"
      ],
      "metadata": {
        "colab": {
          "base_uri": "https://localhost:8080/"
        },
        "id": "7eX-_0buVYSx",
        "outputId": "935fb7f0-27be-4f1a-8965-3f7cdaea009c"
      },
      "execution_count": null,
      "outputs": [
        {
          "output_type": "stream",
          "name": "stdout",
          "text": [
            "[1] FALSE  TRUE FALSE FALSE\n",
            "[1]  TRUE FALSE  TRUE FALSE\n",
            "[1] FALSE FALSE FALSE  TRUE\n",
            "[1] FALSE  TRUE FALSE  TRUE\n",
            "[1]  TRUE FALSE  TRUE  TRUE\n",
            "[1]  TRUE  TRUE  TRUE FALSE\n"
          ]
        }
      ]
    },
    {
      "cell_type": "markdown",
      "source": [
        "Logical operator"
      ],
      "metadata": {
        "id": "Z4LBHekpWuYN"
      }
    },
    {
      "cell_type": "code",
      "source": [
        "v <- c(3,1,TRUE,2+3i)\n",
        "t <- c(4,1,FALSE,2+3i)\n",
        "#AND\n",
        "print(v&t)\n",
        "#OR\n",
        "print(v|t)\n",
        "#NOT\n",
        "print(!v)"
      ],
      "metadata": {
        "colab": {
          "base_uri": "https://localhost:8080/"
        },
        "id": "VFzw4259W23j",
        "outputId": "24fbdabb-881d-4a7f-a961-36b1a4e2fda1"
      },
      "execution_count": null,
      "outputs": [
        {
          "output_type": "stream",
          "name": "stdout",
          "text": [
            "[1]  TRUE  TRUE FALSE  TRUE\n",
            "[1] TRUE TRUE TRUE TRUE\n",
            "[1] FALSE FALSE FALSE FALSE\n"
          ]
        }
      ]
    },
    {
      "cell_type": "markdown",
      "source": [
        "Assignment Operators"
      ],
      "metadata": {
        "id": "wmwYGKqWXp1o"
      }
    },
    {
      "cell_type": "code",
      "source": [
        "#Called Left Assignment\n",
        "v1 <- c(3,1,TRUE,2+3i)\n",
        "v2 <<- c(3,1,TRUE,2+3i)\n",
        "v3 = c(3,1,TRUE,2+3i)\n",
        "print(v1)\n",
        "print(v2)\n",
        "print(v3)\n",
        "#Called Right Assignment\n",
        "c(3,1,TRUE,2+3i) -> v1\n",
        "c(3,1,TRUE,2+3i) ->> v2\n",
        "print(v1)\n",
        "print(v2)"
      ],
      "metadata": {
        "colab": {
          "base_uri": "https://localhost:8080/"
        },
        "id": "RmD1wi61XyKU",
        "outputId": "b387604b-8ae6-4d60-b056-3d1b47644679"
      },
      "execution_count": null,
      "outputs": [
        {
          "output_type": "stream",
          "name": "stdout",
          "text": [
            "[1] 3+0i 1+0i 1+0i 2+3i\n",
            "[1] 3+0i 1+0i 1+0i 2+3i\n",
            "[1] 3+0i 1+0i 1+0i 2+3i\n",
            "[1] 3+0i 1+0i 1+0i 2+3i\n",
            "[1] 3+0i 1+0i 1+0i 2+3i\n"
          ]
        }
      ]
    },
    {
      "cell_type": "markdown",
      "source": [
        "Miscellaneous Operators"
      ],
      "metadata": {
        "id": "596ocVY5cWkl"
      }
    },
    {
      "cell_type": "code",
      "source": [
        "#Colon operator\n",
        "v <- 2:8\n",
        "print(v)\n",
        "#%in%\n",
        "v1 <- 8\n",
        "v2 <- 12\n",
        "t <- 1:10\n",
        "print(v1 %in% t)\n",
        "print(v2 %in% t)\n",
        "#%*%\n",
        "M = matrix( c(2,6,5,1,10,4),\n",
        "nrow = 2,ncol = 3,byrow =\n",
        "TRUE)\n",
        "t = M %*% t(M)\n",
        "print(t)"
      ],
      "metadata": {
        "colab": {
          "base_uri": "https://localhost:8080/"
        },
        "id": "xMD6HRb_c2we",
        "outputId": "22932f6e-cbcd-4bfd-f8e5-eb8ac9b26f84"
      },
      "execution_count": null,
      "outputs": [
        {
          "output_type": "stream",
          "name": "stdout",
          "text": [
            "[1] 2 3 4 5 6 7 8\n",
            "[1] TRUE\n",
            "[1] FALSE\n",
            "     [,1] [,2]\n",
            "[1,]   65   82\n",
            "[2,]   82  117\n"
          ]
        }
      ]
    },
    {
      "cell_type": "markdown",
      "source": [
        "If statement"
      ],
      "metadata": {
        "id": "Us0-_Zxjdxwu"
      }
    },
    {
      "cell_type": "code",
      "source": [
        "x <- 30L\n",
        "if(is.integer(x)) {\n",
        " print(\"X is an Integer\")\n",
        "}"
      ],
      "metadata": {
        "colab": {
          "base_uri": "https://localhost:8080/"
        },
        "id": "cWZSwcCTd1iW",
        "outputId": "ede33c56-a917-4439-b001-a9742205f02d"
      },
      "execution_count": null,
      "outputs": [
        {
          "output_type": "stream",
          "name": "stdout",
          "text": [
            "[1] \"X is an Integer\"\n"
          ]
        }
      ]
    },
    {
      "cell_type": "markdown",
      "source": [
        "Nested if else statement"
      ],
      "metadata": {
        "id": "UP4I2bdNd3dU"
      }
    },
    {
      "cell_type": "code",
      "source": [
        "x <- 10\n",
        "y <- 20\n",
        "z <- 30\n",
        "if(x >= y) {\n",
        " if(x >= z)\n",
        " cat(x , \" is the largest.\")\n",
        " else\n",
        " cat(z , \" is the largest.\")\n",
        "} else {\n",
        " if(y >= z)\n",
        " cat(y , \" is the largest.\")\n",
        " else\n",
        " cat(z , \" is the largest.\")\n",
        "}"
      ],
      "metadata": {
        "colab": {
          "base_uri": "https://localhost:8080/"
        },
        "id": "Ep6HlQQZeB_b",
        "outputId": "3cbca3cc-50cb-4bc3-cbb4-2cdda409379a"
      },
      "execution_count": null,
      "outputs": [
        {
          "output_type": "stream",
          "name": "stdout",
          "text": [
            "30  is the largest."
          ]
        }
      ]
    },
    {
      "cell_type": "markdown",
      "source": [
        "String based Switch"
      ],
      "metadata": {
        "id": "s-nJBh-ReNpt"
      }
    },
    {
      "cell_type": "code",
      "source": [
        "x <- switch(\n",
        " \"apple\",\n",
        " apple = \"A red fruit\",\n",
        " banana = \"A yellow fruit\",\n",
        " orange = \"A citrus fruit\"\n",
        " )\n",
        "print(x)"
      ],
      "metadata": {
        "colab": {
          "base_uri": "https://localhost:8080/"
        },
        "id": "x5stoi71eVQ9",
        "outputId": "a65f1429-203a-41f1-bc38-f61462b42b79"
      },
      "execution_count": null,
      "outputs": [
        {
          "output_type": "stream",
          "name": "stdout",
          "text": [
            "[1] \"A red fruit\"\n"
          ]
        }
      ]
    },
    {
      "cell_type": "markdown",
      "source": [
        "Repeat loop"
      ],
      "metadata": {
        "id": "vjlPatj2eXk5"
      }
    },
    {
      "cell_type": "code",
      "source": [
        "v <- LETTERS[1:4]\n",
        "i <- 0\n",
        "repeat {\n",
        " print(v[i])\n",
        " i<- i+1\n",
        " if(i> 4) {\n",
        "    break\n",
        "  }\n",
        "}"
      ],
      "metadata": {
        "colab": {
          "base_uri": "https://localhost:8080/"
        },
        "id": "EzLxD1OnevZi",
        "outputId": "dbaf92d2-f7ae-4557-8a2e-3b3c3ca21a28"
      },
      "execution_count": null,
      "outputs": [
        {
          "output_type": "stream",
          "name": "stdout",
          "text": [
            "character(0)\n",
            "[1] \"A\"\n",
            "[1] \"B\"\n",
            "[1] \"C\"\n",
            "[1] \"D\"\n"
          ]
        }
      ]
    },
    {
      "cell_type": "markdown",
      "source": [
        "While loop"
      ],
      "metadata": {
        "id": "VOntJUYke5lC"
      }
    },
    {
      "cell_type": "code",
      "source": [
        "v <- LETTERS[1:4]\n",
        "i <- 0\n",
        "while(i < 5) {\n",
        " print(v[i])\n",
        " i<- i+1\n",
        "}"
      ],
      "metadata": {
        "colab": {
          "base_uri": "https://localhost:8080/"
        },
        "id": "eFVp2Uo6fAeo",
        "outputId": "a4565fb2-4497-4462-a19a-4525bddb5a42"
      },
      "execution_count": null,
      "outputs": [
        {
          "output_type": "stream",
          "name": "stdout",
          "text": [
            "character(0)\n",
            "[1] \"A\"\n",
            "[1] \"B\"\n",
            "[1] \"C\"\n",
            "[1] \"D\"\n"
          ]
        }
      ]
    },
    {
      "cell_type": "markdown",
      "source": [
        "For loop"
      ],
      "metadata": {
        "id": "RpVN9bzjfIF9"
      }
    },
    {
      "cell_type": "code",
      "source": [
        "list1 <- list(a = 1:3, b = \"hello\", c = TRUE)\n",
        "for (item in list1) {\n",
        " print(item)\n",
        "}"
      ],
      "metadata": {
        "colab": {
          "base_uri": "https://localhost:8080/"
        },
        "id": "ijNIx2KmfOih",
        "outputId": "118dfbbf-6a06-4c56-e334-4b512e7e1b66"
      },
      "execution_count": null,
      "outputs": [
        {
          "output_type": "stream",
          "name": "stdout",
          "text": [
            "[1] 1 2 3\n",
            "[1] \"hello\"\n",
            "[1] TRUE\n"
          ]
        }
      ]
    },
    {
      "cell_type": "markdown",
      "source": [
        "Matrix"
      ],
      "metadata": {
        "id": "mQsbc_vHfdZK"
      }
    },
    {
      "cell_type": "code",
      "source": [
        "# Elements are arranged sequentially by row.\n",
        "M <- matrix(c(3:14), nrow = 4, byrow = TRUE)\n",
        "print(M)\n",
        "# Elements are arranged sequentially by column.\n",
        "N <- matrix(c(3:14), nrow = 4, byrow = FALSE)\n",
        "print(N)\n",
        "# Define the column and row names.\n",
        "rownames = c(\"row1\", \"row2\", \"row3\", \"row4\")\n",
        "colnames = c(\"col1\", \"col2\", \"col3\")\n",
        "P <- matrix(c(3:14), nrow = 4, byrow = TRUE, dimnames = list(rownames, colnames))\n",
        "print(P)"
      ],
      "metadata": {
        "colab": {
          "base_uri": "https://localhost:8080/"
        },
        "id": "n7FaVgOIffJC",
        "outputId": "6724e2d6-3f1b-4132-9a8f-36aa07f7cc49"
      },
      "execution_count": null,
      "outputs": [
        {
          "output_type": "stream",
          "name": "stdout",
          "text": [
            "     [,1] [,2] [,3]\n",
            "[1,]    3    4    5\n",
            "[2,]    6    7    8\n",
            "[3,]    9   10   11\n",
            "[4,]   12   13   14\n",
            "     [,1] [,2] [,3]\n",
            "[1,]    3    7   11\n",
            "[2,]    4    8   12\n",
            "[3,]    5    9   13\n",
            "[4,]    6   10   14\n",
            "     col1 col2 col3\n",
            "row1    3    4    5\n",
            "row2    6    7    8\n",
            "row3    9   10   11\n",
            "row4   12   13   14\n"
          ]
        }
      ]
    },
    {
      "cell_type": "markdown",
      "source": [
        "Accessing Elements of a Matrix"
      ],
      "metadata": {
        "id": "1KdYo-WRfjdo"
      }
    },
    {
      "cell_type": "code",
      "source": [
        "# Define the column and row names.\n",
        "rownames = c(\"row1\", \"row2\", \"row3\", \"row4\")\n",
        "colnames = c(\"col1\", \"col2\", \"col3\")\n",
        "# Create the matrix.\n",
        "P <- matrix(c(3:14), nrow = 4, byrow = TRUE, dimnames = list(rownames, colnames))\n",
        "# Access the element at 3rd column and 1st row.\n",
        "print(P[1,3])\n",
        "# Access the element at 2nd column and 4th row.\n",
        "print(P[4,2])\n",
        "# Access only the 2nd row.\n",
        "print(P[2,])\n",
        "# Access only the 3rd column.\n",
        "print(P[,3])"
      ],
      "metadata": {
        "colab": {
          "base_uri": "https://localhost:8080/"
        },
        "id": "zShLSCiRfxAe",
        "outputId": "52ebda82-7b04-42af-eea0-67b6dce56b25"
      },
      "execution_count": null,
      "outputs": [
        {
          "output_type": "stream",
          "name": "stdout",
          "text": [
            "[1] 5\n",
            "[1] 13\n",
            "col1 col2 col3 \n",
            "   6    7    8 \n",
            "row1 row2 row3 row4 \n",
            "   5    8   11   14 \n"
          ]
        }
      ]
    },
    {
      "cell_type": "markdown",
      "source": [
        "Matrix Addition & Subtraction"
      ],
      "metadata": {
        "id": "1jy-Goszf93L"
      }
    },
    {
      "cell_type": "code",
      "source": [
        "# Create two 2x3 matrices.\n",
        "matrix1 <- matrix(c(3, 9, -1, 4, 2, 6), nrow = 2)\n",
        "print(matrix1)\n",
        "matrix2 <- matrix(c(5, 2, 0, 9, 3, 4), nrow = 2)\n",
        "print(matrix2)\n",
        "# Add the matrices.\n",
        "result <- matrix1 + matrix2\n",
        "cat(\"Result of addition\",\"\\n\")\n",
        "print(result)\n",
        "# Subtract the matrices\n",
        "result <- matrix1 - matrix2\n",
        "cat(\"Result of subtraction\",\"\\n\")\n",
        "print(result)"
      ],
      "metadata": {
        "colab": {
          "base_uri": "https://localhost:8080/"
        },
        "id": "zyh1-7pRf-0G",
        "outputId": "7a9f307a-dfc6-4d94-afc4-af8878c72a4b"
      },
      "execution_count": null,
      "outputs": [
        {
          "output_type": "stream",
          "name": "stdout",
          "text": [
            "     [,1] [,2] [,3]\n",
            "[1,]    3   -1    2\n",
            "[2,]    9    4    6\n",
            "     [,1] [,2] [,3]\n",
            "[1,]    5    0    3\n",
            "[2,]    2    9    4\n",
            "Result of addition \n",
            "     [,1] [,2] [,3]\n",
            "[1,]    8   -1    5\n",
            "[2,]   11   13   10\n",
            "Result of subtraction \n",
            "     [,1] [,2] [,3]\n",
            "[1,]   -2   -1   -1\n",
            "[2,]    7   -5    2\n"
          ]
        }
      ]
    },
    {
      "cell_type": "markdown",
      "source": [
        "Matrix Multiplication & Division"
      ],
      "metadata": {
        "id": "sfY3jR7xhFSs"
      }
    },
    {
      "cell_type": "code",
      "source": [
        "# Create two 2x3 matrices.\n",
        "matrix1 <- matrix(c(3, 9, -1, 4, 2, 6), nrow = 2)\n",
        "print(matrix1)\n",
        "matrix2 <- matrix(c(5, 2, 0, 9, 3, 4), nrow = 2)\n",
        "print(matrix2)\n",
        "# Multiply the matrices.\n",
        "result <- matrix1 * matrix2\n",
        "cat(\"Result of multiplication\",\"\\n\")\n",
        "print(result)\n",
        "# Divide the matrices\n",
        "result <- matrix1 / matrix2\n",
        "cat(\"Result of division\",\"\\n\")\n",
        "print(result)"
      ],
      "metadata": {
        "colab": {
          "base_uri": "https://localhost:8080/"
        },
        "id": "Vb-T9Rehhcbs",
        "outputId": "e0c95212-3c18-4054-efc1-db031be881eb"
      },
      "execution_count": null,
      "outputs": [
        {
          "output_type": "stream",
          "name": "stdout",
          "text": [
            "     [,1] [,2] [,3]\n",
            "[1,]    3   -1    2\n",
            "[2,]    9    4    6\n",
            "     [,1] [,2] [,3]\n",
            "[1,]    5    0    3\n",
            "[2,]    2    9    4\n",
            "Result of multiplication \n",
            "     [,1] [,2] [,3]\n",
            "[1,]   15    0    6\n",
            "[2,]   18   36   24\n",
            "Result of division \n",
            "     [,1]      [,2]      [,3]\n",
            "[1,]  0.6      -Inf 0.6666667\n",
            "[2,]  4.5 0.4444444 1.5000000\n"
          ]
        }
      ]
    },
    {
      "cell_type": "markdown",
      "source": [
        "creates an array"
      ],
      "metadata": {
        "id": "A4LkWxFuhvRn"
      }
    },
    {
      "cell_type": "code",
      "source": [
        "# Create two vectors of different lengths.\n",
        "vector1 <- c(5,9,3)\n",
        "vector2 <- c(10,11,12,13,14,15)\n",
        "# Take these vectors as input to the array.\n",
        "result <- array(c(vector1,vector2),dim = c(3,3,2))\n",
        "print(result)"
      ],
      "metadata": {
        "colab": {
          "base_uri": "https://localhost:8080/"
        },
        "id": "F0BvSUi9hwMt",
        "outputId": "5a849294-c082-4d65-83de-b71e32bad1b4"
      },
      "execution_count": null,
      "outputs": [
        {
          "output_type": "stream",
          "name": "stdout",
          "text": [
            ", , 1\n",
            "\n",
            "     [,1] [,2] [,3]\n",
            "[1,]    5   10   13\n",
            "[2,]    9   11   14\n",
            "[3,]    3   12   15\n",
            "\n",
            ", , 2\n",
            "\n",
            "     [,1] [,2] [,3]\n",
            "[1,]    5   10   13\n",
            "[2,]    9   11   14\n",
            "[3,]    3   12   15\n",
            "\n"
          ]
        }
      ]
    },
    {
      "cell_type": "markdown",
      "source": [
        "Naming Columns and Rows"
      ],
      "metadata": {
        "id": "dyCGzSbkiDZI"
      }
    },
    {
      "cell_type": "code",
      "source": [
        "# Create two vectors of different lengths.\n",
        "vector1 <- c(5,9,3)\n",
        "vector2 <- c(10,11,12,13,14,15)\n",
        "column.names <- c(\"COL1\",\"COL2\",\"COL3\")\n",
        "row.names <- c(\"ROW1\",\"ROW2\",\"ROW3\")\n",
        "matrix.names <- c(\"Matrix1\",\"Matrix2\")\n",
        "# Take these vectors as input to the array.\n",
        "result <- array(c(vector1,vector2),dim = c(3,3,2),dimnames = list(row.names,column.names,\n",
        " matrix.names))\n",
        "print(result)"
      ],
      "metadata": {
        "colab": {
          "base_uri": "https://localhost:8080/"
        },
        "id": "k4_Tl8pdiGEG",
        "outputId": "04f9f5ac-b75e-4b74-d191-a75a747a2b21"
      },
      "execution_count": null,
      "outputs": [
        {
          "output_type": "stream",
          "name": "stdout",
          "text": [
            ", , Matrix1\n",
            "\n",
            "     COL1 COL2 COL3\n",
            "ROW1    5   10   13\n",
            "ROW2    9   11   14\n",
            "ROW3    3   12   15\n",
            "\n",
            ", , Matrix2\n",
            "\n",
            "     COL1 COL2 COL3\n",
            "ROW1    5   10   13\n",
            "ROW2    9   11   14\n",
            "ROW3    3   12   15\n",
            "\n"
          ]
        }
      ]
    },
    {
      "cell_type": "markdown",
      "source": [
        "Accessing Array Elements"
      ],
      "metadata": {
        "id": "JmF3dfqwiUtD"
      }
    },
    {
      "cell_type": "code",
      "source": [
        "# Create two vectors of different lengths.\n",
        "vector1 <- c(5,9,3)\n",
        "vector2 <- c(10,11,12,13,14,15)\n",
        "column.names <- c(\"COL1\",\"COL2\",\"COL3\")\n",
        "row.names <- c(\"ROW1\",\"ROW2\",\"ROW3\")\n",
        "matrix.names <- c(\"Matrix1\",\"Matrix2\")\n",
        "# Take these vectors as input to the array.\n",
        "result <- array(c(vector1,vector2),dim = c(3,3,2),dimnames = list(row.names,\n",
        " column.names, matrix.names))\n",
        "# Print the third row of the second matrix of the array.\n",
        "print(result[3,,2])\n",
        "# Print the element in the 1st row and 3rd column of the 1st matrix.\n",
        "print(result[1,3,1])\n",
        "# Print the 2nd Matrix.\n",
        "print(result[,,2])"
      ],
      "metadata": {
        "colab": {
          "base_uri": "https://localhost:8080/"
        },
        "id": "hY1NJfGiiXTv",
        "outputId": "69763889-7fc6-4146-ff76-194d6a2d7d09"
      },
      "execution_count": null,
      "outputs": [
        {
          "output_type": "stream",
          "name": "stdout",
          "text": [
            "COL1 COL2 COL3 \n",
            "   3   12   15 \n",
            "[1] 13\n",
            "     COL1 COL2 COL3\n",
            "ROW1    5   10   13\n",
            "ROW2    9   11   14\n",
            "ROW3    3   12   15\n"
          ]
        }
      ]
    },
    {
      "cell_type": "markdown",
      "source": [
        "Manipulating Array Elements"
      ],
      "metadata": {
        "id": "s6uuhL0Aik2e"
      }
    },
    {
      "cell_type": "code",
      "source": [
        "# Create two vectors of different lengths.\n",
        "vector1 <- c(5,9,3)\n",
        "vector2 <- c(10,11,12,13,14,15)\n",
        "# Take these vectors as input to the array.\n",
        "array1 <- array(c(vector1,vector2),dim = c(3,3,2))\n",
        "# Create two vectors of different lengths.\n",
        "vector3 <- c(9,1,0)\n",
        "vector4 <- c(6,0,11,3,14,1,2,6,9)\n",
        "array2 <- array(c(vector1,vector2),dim = c(3,3,2))\n",
        "# create matrices from these arrays.\n",
        "matrix1 <- array1[,,2]\n",
        "matrix2 <- array2[,,2]\n",
        "# Add the matrices.\n",
        "result <- matrix1+matrix2\n",
        "print(result)"
      ],
      "metadata": {
        "colab": {
          "base_uri": "https://localhost:8080/"
        },
        "id": "2bj9TXphiluU",
        "outputId": "3f7bca72-7f04-4945-bfff-f0f1c6d8ae7b"
      },
      "execution_count": null,
      "outputs": [
        {
          "output_type": "stream",
          "name": "stdout",
          "text": [
            "     [,1] [,2] [,3]\n",
            "[1,]   10   20   26\n",
            "[2,]   18   22   28\n",
            "[3,]    6   24   30\n"
          ]
        }
      ]
    },
    {
      "cell_type": "markdown",
      "source": [
        "Calculations Across Array Elements"
      ],
      "metadata": {
        "id": "gIJbKdyBi3QH"
      }
    },
    {
      "cell_type": "code",
      "source": [
        "# Create two vectors of different lengths.\n",
        "vector1 <- c(5,9,3)\n",
        "vector2 <- c(10,11,12,13,14,15)\n",
        "# Take these vectors as input to the array.\n",
        "new.array <- array(c(vector1,vector2),dim = c(3,3,2))\n",
        "print(new.array)\n",
        "# Use apply to calculate the sum of the rows across all the matrices.\n",
        "result <- apply(new.array, c(1), sum)\n",
        "print(result)"
      ],
      "metadata": {
        "colab": {
          "base_uri": "https://localhost:8080/"
        },
        "id": "61chIqNqi49w",
        "outputId": "5781ca3f-5290-487d-cc80-6536cc36464b"
      },
      "execution_count": null,
      "outputs": [
        {
          "output_type": "stream",
          "name": "stdout",
          "text": [
            ", , 1\n",
            "\n",
            "     [,1] [,2] [,3]\n",
            "[1,]    5   10   13\n",
            "[2,]    9   11   14\n",
            "[3,]    3   12   15\n",
            "\n",
            ", , 2\n",
            "\n",
            "     [,1] [,2] [,3]\n",
            "[1,]    5   10   13\n",
            "[2,]    9   11   14\n",
            "[3,]    3   12   15\n",
            "\n",
            "[1] 56 68 60\n"
          ]
        }
      ]
    },
    {
      "cell_type": "markdown",
      "source": [
        "Factors are created using the factor ()"
      ],
      "metadata": {
        "id": "iIyhCFqbjIig"
      }
    },
    {
      "cell_type": "code",
      "source": [
        "# Create a vector as input.\n",
        "data <- c(\"East\",\"West\",\"East\",\"North\",\"North\",\"East\",\"West\",\"West\",\"West\",\"East\",\"North\")\n",
        "print(data)\n",
        "print(is.factor(data))\n",
        "# Apply the factor function.\n",
        "factor_data <- factor(data)\n",
        "print(factor_data)\n",
        "print(is.factor(factor_data))"
      ],
      "metadata": {
        "colab": {
          "base_uri": "https://localhost:8080/"
        },
        "id": "6pTW9QUMjJsK",
        "outputId": "24c692e0-30c5-49b9-b7bc-bc7269c9cfc9"
      },
      "execution_count": null,
      "outputs": [
        {
          "output_type": "stream",
          "name": "stdout",
          "text": [
            " [1] \"East\"  \"West\"  \"East\"  \"North\" \"North\" \"East\"  \"West\"  \"West\"  \"West\" \n",
            "[10] \"East\"  \"North\"\n",
            "[1] FALSE\n",
            " [1] East  West  East  North North East  West  West  West  East  North\n",
            "Levels: East North West\n",
            "[1] TRUE\n"
          ]
        }
      ]
    },
    {
      "cell_type": "markdown",
      "source": [
        "Factors in Data Frame"
      ],
      "metadata": {
        "id": "d53NLTh2jQCJ"
      }
    },
    {
      "cell_type": "code",
      "source": [
        "# Create the vectors for data frame.\n",
        "height <- c(132,151,162,139,166,147,122)\n",
        "weight <- c(48,49,66,53,67,52,40)\n",
        "gender <- c(\"male\",\"male\",\"female\",\"female\",\"male\",\"female\",\"male\")\n",
        "# Create the data frame.\n",
        "input_data <- data.frame(height,weight,gender)\n",
        "print(input_data)\n",
        "# Test if the gender column is a factor.\n",
        "print(is.factor(input_data$gender))\n",
        "# Print the gender column so see the levels.\n",
        "print(input_data$gender)"
      ],
      "metadata": {
        "colab": {
          "base_uri": "https://localhost:8080/"
        },
        "id": "BNwXiN9zjzUx",
        "outputId": "066fc9e6-f9ec-4f87-bcab-a9eb044722ed"
      },
      "execution_count": null,
      "outputs": [
        {
          "output_type": "stream",
          "name": "stdout",
          "text": [
            "  height weight gender\n",
            "1    132     48   male\n",
            "2    151     49   male\n",
            "3    162     66 female\n",
            "4    139     53 female\n",
            "5    166     67   male\n",
            "6    147     52 female\n",
            "7    122     40   male\n",
            "[1] FALSE\n",
            "[1] \"male\"   \"male\"   \"female\" \"female\" \"male\"   \"female\" \"male\"  \n"
          ]
        }
      ]
    },
    {
      "cell_type": "markdown",
      "source": [
        "Changing the Order of Levels"
      ],
      "metadata": {
        "id": "2BHscK-0k7wK"
      }
    },
    {
      "cell_type": "code",
      "source": [
        "data <- c(\"East\",\"West\",\"East\",\"North\",\"North\",\"East\",\"West\",\n",
        " \"West\",\"West\",\"East\",\"North\")\n",
        "# Create the factors\n",
        "factor_data <- factor(data)\n",
        "print(factor_data)\n",
        "# Apply the factor function with required order of the level.\n",
        "new_order_data <- factor(factor_data,levels = c(\"East\",\"West\",\"North\"))\n",
        "print(new_order_data)"
      ],
      "metadata": {
        "colab": {
          "base_uri": "https://localhost:8080/"
        },
        "id": "BF78tfZclW8h",
        "outputId": "b791caf5-8308-4f01-8ad6-43c7d9d09216"
      },
      "execution_count": null,
      "outputs": [
        {
          "output_type": "stream",
          "name": "stdout",
          "text": [
            " [1] East  West  East  North North East  West  West  West  East  North\n",
            "Levels: East North West\n",
            " [1] East  West  East  North North East  West  West  West  East  North\n",
            "Levels: East West North\n"
          ]
        }
      ]
    },
    {
      "cell_type": "markdown",
      "source": [
        "Generating Factor Levels"
      ],
      "metadata": {
        "id": "H3-nzPn-lnph"
      }
    },
    {
      "cell_type": "code",
      "source": [
        "v <- gl(3, 4, labels = c(\"Tampa\", \"Seattle\",\"Boston\"))\n",
        "print(v)"
      ],
      "metadata": {
        "colab": {
          "base_uri": "https://localhost:8080/"
        },
        "id": "hinoSYpelon1",
        "outputId": "e856c97f-906c-4eda-dcb5-01c0010e212c"
      },
      "execution_count": null,
      "outputs": [
        {
          "output_type": "stream",
          "name": "stdout",
          "text": [
            " [1] Tampa   Tampa   Tampa   Tampa   Seattle Seattle Seattle Seattle Boston \n",
            "[10] Boston  Boston  Boston \n",
            "Levels: Tampa Seattle Boston\n"
          ]
        }
      ]
    },
    {
      "cell_type": "markdown",
      "source": [
        "Create Data Frame"
      ],
      "metadata": {
        "id": "w49RfRROl5gb"
      }
    },
    {
      "cell_type": "code",
      "source": [
        "# Create the data frame.\n",
        "emp.data <- data.frame(\n",
        " emp_id = c (1:5),\n",
        " emp_name = c(\"Rick\",\"Dan\",\"Michelle\",\"Ryan\",\"Gary\"),\n",
        " salary = c(623.3,515.2,611.0,729.0,843.25),\n",
        " start_date = as.Date(c(\"2012-01-01\", \"2013-09-23\", \"2014-11-15\", \"2014-05-11\",\n",
        " \"2015-03-27\")),\n",
        " stringsAsFactors = FALSE\n",
        ")\n",
        "# Print the data frame.\n",
        "print(emp.data)"
      ],
      "metadata": {
        "colab": {
          "base_uri": "https://localhost:8080/"
        },
        "id": "pCjiyChtl6n6",
        "outputId": "b6b5cd87-5b39-49d9-ce4b-4cd89c308130"
      },
      "execution_count": null,
      "outputs": [
        {
          "output_type": "stream",
          "name": "stdout",
          "text": [
            "  emp_id emp_name salary start_date\n",
            "1      1     Rick 623.30 2012-01-01\n",
            "2      2      Dan 515.20 2013-09-23\n",
            "3      3 Michelle 611.00 2014-11-15\n",
            "4      4     Ryan 729.00 2014-05-11\n",
            "5      5     Gary 843.25 2015-03-27\n"
          ]
        }
      ]
    },
    {
      "cell_type": "markdown",
      "source": [
        "Get the Structure of the Data Frame"
      ],
      "metadata": {
        "id": "3oGGC6a3mNG8"
      }
    },
    {
      "cell_type": "code",
      "source": [
        "# Create the data frame.\n",
        "emp.data <- data.frame(\n",
        " emp_id = c (1:5),\n",
        " emp_name = c(\"Rick\",\"Dan\",\"Michelle\",\"Ryan\",\"Gary\"),\n",
        " salary = c(623.3,515.2,611.0,729.0,843.25),\n",
        " start_date = as.Date(c(\"2012-01-01\", \"2013-09-23\", \"2014-11-15\", \"2014-05-11\",\n",
        " \"2015-03-27\")),\n",
        " stringsAsFactors = FALSE\n",
        ")\n",
        "# Get the structure of the data frame.\n",
        "str(emp.data)"
      ],
      "metadata": {
        "colab": {
          "base_uri": "https://localhost:8080/"
        },
        "id": "kax7w4ymmQ3V",
        "outputId": "a8429140-656f-4a68-b6d2-e6b17ed78dba"
      },
      "execution_count": null,
      "outputs": [
        {
          "output_type": "stream",
          "name": "stdout",
          "text": [
            "'data.frame':\t5 obs. of  4 variables:\n",
            " $ emp_id    : int  1 2 3 4 5\n",
            " $ emp_name  : chr  \"Rick\" \"Dan\" \"Michelle\" \"Ryan\" ...\n",
            " $ salary    : num  623 515 611 729 843\n",
            " $ start_date: Date, format: \"2012-01-01\" \"2013-09-23\" ...\n"
          ]
        }
      ]
    },
    {
      "cell_type": "markdown",
      "source": [
        "Summary of Data in Data Frame"
      ],
      "metadata": {
        "id": "g7UkfiqMmjLJ"
      }
    },
    {
      "cell_type": "code",
      "source": [
        "# Create the data frame.\n",
        "emp.data <- data.frame(\n",
        " emp_id = c (1:5),\n",
        " emp_name = c(\"Rick\",\"Dan\",\"Michelle\",\"Ryan\",\"Gary\"),\n",
        " salary = c(623.3,515.2,611.0,729.0,843.25),\n",
        " start_date = as.Date(c(\"2012-01-01\", \"2013-09-23\", \"2014-11-15\", \"2014-05-11\",\n",
        " \"2015-03-27\")),\n",
        "stringsAsFactors = FALSE\n",
        ")\n",
        "# Print the summary.\n",
        "print(summary(emp.data))"
      ],
      "metadata": {
        "colab": {
          "base_uri": "https://localhost:8080/"
        },
        "id": "2_gHrLnGmkFT",
        "outputId": "771b6bb9-b6bc-46ec-d133-e3c05a45033b"
      },
      "execution_count": null,
      "outputs": [
        {
          "output_type": "stream",
          "name": "stdout",
          "text": [
            "     emp_id    emp_name             salary        start_date        \n",
            " Min.   :1   Length:5           Min.   :515.2   Min.   :2012-01-01  \n",
            " 1st Qu.:2   Class :character   1st Qu.:611.0   1st Qu.:2013-09-23  \n",
            " Median :3   Mode  :character   Median :623.3   Median :2014-05-11  \n",
            " Mean   :3                      Mean   :664.4   Mean   :2014-01-14  \n",
            " 3rd Qu.:4                      3rd Qu.:729.0   3rd Qu.:2014-11-15  \n",
            " Max.   :5                      Max.   :843.2   Max.   :2015-03-27  \n"
          ]
        }
      ]
    },
    {
      "cell_type": "markdown",
      "source": [
        "Extract Data from Data Frame"
      ],
      "metadata": {
        "id": "5hG3zAljm0hE"
      }
    },
    {
      "cell_type": "code",
      "source": [
        "# Create the data frame.\n",
        "emp.data <- data.frame(\n",
        " emp_id = c (1:5),\n",
        " emp_name = c(\"Rick\",\"Dan\",\"Michelle\",\"Ryan\",\"Gary\"),\n",
        " salary = c(623.3,515.2,611.0,729.0,843.25),\n",
        "start_date = as.Date(c(\"2012-01-01\",\"2013-09-23\",\"2014-11-15\",\"2014-05-11\",\n",
        " \"2015-03-27\")),\n",
        " stringsAsFactors = FALSE\n",
        ")\n",
        "# Extract Specific columns.\n",
        "result <- data.frame(emp.data$emp_name,emp.data$salary)\n",
        "print(result)"
      ],
      "metadata": {
        "colab": {
          "base_uri": "https://localhost:8080/"
        },
        "id": "gDNHgzL4m2-A",
        "outputId": "324d045b-0178-4ac4-d7cc-5c3331f40260"
      },
      "execution_count": null,
      "outputs": [
        {
          "output_type": "stream",
          "name": "stdout",
          "text": [
            "  emp.data.emp_name emp.data.salary\n",
            "1              Rick          623.30\n",
            "2               Dan          515.20\n",
            "3          Michelle          611.00\n",
            "4              Ryan          729.00\n",
            "5              Gary          843.25\n"
          ]
        }
      ]
    },
    {
      "cell_type": "markdown",
      "source": [
        "Extract the first two rows and then all columns"
      ],
      "metadata": {
        "id": "bGyPyuntpF3h"
      }
    },
    {
      "cell_type": "code",
      "source": [
        "# Create the data frame.\n",
        "emp.data <- data.frame(\n",
        "emp_id = c (1:5),\n",
        " emp_name = c(\"Rick\",\"Dan\",\"Michelle\",\"Ryan\",\"Gary\"),\n",
        " salary = c(623.3,515.2,611.0,729.0,843.25),\n",
        " start_date = as.Date(c(\"2012-01-01\", \"2013-09-23\", \"2014-11-15\", \"2014-05-11\",\n",
        " \"2015-03-27\")),\n",
        " stringsAsFactors = FALSE\n",
        ")\n",
        "# Extract first two rows.\n",
        "result <- emp.data[1:2,]\n",
        "print(result)"
      ],
      "metadata": {
        "colab": {
          "base_uri": "https://localhost:8080/"
        },
        "id": "IhgicC1apG9L",
        "outputId": "3f3ff491-485e-4539-9c7e-b16b3d24366a"
      },
      "execution_count": null,
      "outputs": [
        {
          "output_type": "stream",
          "name": "stdout",
          "text": [
            "  emp_id emp_name salary start_date\n",
            "1      1     Rick  623.3 2012-01-01\n",
            "2      2      Dan  515.2 2013-09-23\n"
          ]
        }
      ]
    },
    {
      "cell_type": "markdown",
      "source": [
        "Extract 3rd and 5th row with 2nd and 4th column"
      ],
      "metadata": {
        "id": "2SzPCutkpMb1"
      }
    },
    {
      "cell_type": "code",
      "source": [
        "\n",
        "# Create the data frame.\n",
        "emp.data <- data.frame(\n",
        "emp_id = c (1:5),\n",
        " emp_name = c(\"Rick\",\"Dan\",\"Michelle\",\"Ryan\",\"Gary\"),\n",
        " salary = c(623.3,515.2,611.0,729.0,843.25),\n",
        "start_date = as.Date(c(\"2012-01-01\", \"2013-09-23\", \"2014-11-15\", \"2014-05-11\",\n",
        " \"2015-03-27\")),\n",
        " stringsAsFactors = FALSE\n",
        ")\n",
        "# Extract 3rd and 5th row with 2nd and 4th column.\n",
        "result <- emp.data[c(3,5),c(2,4)]\n",
        "print(result)"
      ],
      "metadata": {
        "colab": {
          "base_uri": "https://localhost:8080/"
        },
        "id": "BPyZPuQapaF9",
        "outputId": "03a31e59-cc9c-41ea-cd8b-93129353ee8d"
      },
      "execution_count": null,
      "outputs": [
        {
          "output_type": "stream",
          "name": "stdout",
          "text": [
            "  emp_name start_date\n",
            "3 Michelle 2014-11-15\n",
            "5     Gary 2015-03-27\n"
          ]
        }
      ]
    },
    {
      "cell_type": "markdown",
      "source": [
        "Expand Data Frame\n",
        "Add Column"
      ],
      "metadata": {
        "id": "kFAnkjITpyP2"
      }
    },
    {
      "cell_type": "code",
      "source": [
        "# Create the data frame.\n",
        "emp.data <- data.frame(\n",
        " emp_id = c (1:5),\n",
        " emp_name = c(\"Rick\",\"Dan\",\"Michelle\",\"Ryan\",\"Gary\"),\n",
        " salary = c(623.3,515.2,611.0,729.0,843.25),\n",
        " start_date = as.Date(c(\"2012-01-01\", \"2013-09-23\", \"2014-11-15\", \"2014-05-11\",\n",
        " \"2015-03-27\")),\n",
        " stringsAsFactors = FALSE\n",
        ")\n",
        "# Add the \"dept\" coulmn.\n",
        "emp.data$dept <- c(\"IT\",\"Operations\",\"IT\",\"HR\",\"Finance\")\n",
        "v <- emp.data\n",
        "print(v)"
      ],
      "metadata": {
        "colab": {
          "base_uri": "https://localhost:8080/"
        },
        "id": "oP93MDYQp1uT",
        "outputId": "f3ae1a36-4508-4b64-f258-a6b5fa79dc7c"
      },
      "execution_count": null,
      "outputs": [
        {
          "output_type": "stream",
          "name": "stdout",
          "text": [
            "  emp_id emp_name salary start_date       dept\n",
            "1      1     Rick 623.30 2012-01-01         IT\n",
            "2      2      Dan 515.20 2013-09-23 Operations\n",
            "3      3 Michelle 611.00 2014-11-15         IT\n",
            "4      4     Ryan 729.00 2014-05-11         HR\n",
            "5      5     Gary 843.25 2015-03-27    Finance\n"
          ]
        }
      ]
    },
    {
      "cell_type": "markdown",
      "source": [
        "Add Row"
      ],
      "metadata": {
        "id": "26TZeGCEp4Md"
      }
    },
    {
      "cell_type": "code",
      "source": [
        "\n",
        "# Create the first data frame.\n",
        "emp.data <- data.frame(\n",
        " emp_id = c (1:5),\n",
        " emp_name = c(\"Rick\",\"Dan\",\"Michelle\",\"Ryan\",\"Gary\"),\n",
        " salary = c(623.3,515.2,611.0,729.0,843.25),\n",
        "\n",
        "\n",
        " start_date = as.Date(c(\"2012-01-01\", \"2013-09-23\", \"2014-11-15\", \"2014-05-11\",\n",
        " \"2015-03-27\")),\n",
        " dept = c(\"IT\",\"Operations\",\"IT\",\"HR\",\"Finance\"),\n",
        " stringsAsFactors = FALSE\n",
        ")# Create the second data frame\n",
        "emp.newdata <- data.frame(\n",
        " emp_id = c (6:8),\n",
        " emp_name = c(\"Rasmi\",\"Pranab\",\"Tusar\"),\n",
        " salary = c(578.0,722.5,632.8),\n",
        " start_date = as.Date(c(\"2013-05-21\",\"2013-07-30\",\"2014-06-17\")),\n",
        " dept = c(\"IT\",\"Operations\",\"Fianance\"),\n",
        " stringsAsFactors = FALSE\n",
        ")\n",
        "# Bind the two data frames.\n",
        "emp.finaldata <- rbind(emp.data,emp.newdata)\n",
        "print(emp.finaldata)"
      ],
      "metadata": {
        "colab": {
          "base_uri": "https://localhost:8080/"
        },
        "id": "KPOLkm_0qNra",
        "outputId": "33401abe-44e5-4c83-edd9-ba9eaea57b58"
      },
      "execution_count": null,
      "outputs": [
        {
          "output_type": "stream",
          "name": "stdout",
          "text": [
            "  emp_id emp_name salary start_date       dept\n",
            "1      1     Rick 623.30 2012-01-01         IT\n",
            "2      2      Dan 515.20 2013-09-23 Operations\n",
            "3      3 Michelle 611.00 2014-11-15         IT\n",
            "4      4     Ryan 729.00 2014-05-11         HR\n",
            "5      5     Gary 843.25 2015-03-27    Finance\n",
            "6      6    Rasmi 578.00 2013-05-21         IT\n",
            "7      7   Pranab 722.50 2013-07-30 Operations\n",
            "8      8    Tusar 632.80 2014-06-17   Fianance\n"
          ]
        }
      ]
    },
    {
      "cell_type": "markdown",
      "source": [
        "R - Data Reshaping"
      ],
      "metadata": {
        "id": "tqORMlZcq5K_"
      }
    },
    {
      "cell_type": "markdown",
      "source": [
        "Joining Columns and Rows in a Data Frame"
      ],
      "metadata": {
        "id": "8623PgKmq6hx"
      }
    },
    {
      "cell_type": "code",
      "source": [
        "# Create vector objects.\n",
        "city <- c(\"Tampa\",\"Seattle\",\"Hartford\",\"Denver\")\n",
        "state <- c(\"FL\",\"WA\",\"CT\",\"CO\")\n",
        "zipcode <- c(33602,98104,06161,80294)\n",
        "# Combine above three vectors into one data frame.\n",
        "addresses <- cbind(city,state,zipcode)\n",
        "# Print a header.\n",
        "cat(\"# # # # The First data frame\\n\")\n",
        "# Print the data frame.\n",
        "print(addresses)\n",
        "# Create another data frame with similar columns\n",
        "new.address <- data.frame(\n",
        " city = c(\"Lowry\",\"Charlotte\"),\n",
        " state = c(\"CO\",\"FL\"),\n",
        " zipcode = c(\"80230\",\"33949\"),\n",
        " stringsAsFactors = FALSE\n",
        ")\n",
        "# Print a header.\n",
        "cat(\"# # # The Second data frame\\n\")\n",
        "# Print the data frame.\n",
        "print(new.address)\n",
        "# Combine rows form both the data frames.\n",
        "all.addresses <- rbind(addresses,new.address)\n",
        "# Print a header.\n",
        "cat(\"# # # The combined data frame\\n\")\n",
        "# Print the result.\n",
        "print(all.addresses)"
      ],
      "metadata": {
        "colab": {
          "base_uri": "https://localhost:8080/"
        },
        "id": "fBWnQ4ZDq_Bf",
        "outputId": "3fc5ee22-d7df-40fd-8e06-392961c32da0"
      },
      "execution_count": null,
      "outputs": [
        {
          "output_type": "stream",
          "name": "stdout",
          "text": [
            "# # # # The First data frame\n",
            "     city       state zipcode\n",
            "[1,] \"Tampa\"    \"FL\"  \"33602\"\n",
            "[2,] \"Seattle\"  \"WA\"  \"98104\"\n",
            "[3,] \"Hartford\" \"CT\"  \"6161\" \n",
            "[4,] \"Denver\"   \"CO\"  \"80294\"\n",
            "# # # The Second data frame\n",
            "       city state zipcode\n",
            "1     Lowry    CO   80230\n",
            "2 Charlotte    FL   33949\n",
            "# # # The combined data frame\n",
            "       city state zipcode\n",
            "1     Tampa    FL   33602\n",
            "2   Seattle    WA   98104\n",
            "3  Hartford    CT    6161\n",
            "4    Denver    CO   80294\n",
            "5     Lowry    CO   80230\n",
            "6 Charlotte    FL   33949\n"
          ]
        }
      ]
    },
    {
      "cell_type": "markdown",
      "source": [
        "Merging Data Frames"
      ],
      "metadata": {
        "id": "JWEyMq4murpJ"
      }
    },
    {
      "cell_type": "code",
      "source": [
        "library(MASS)\n",
        "merged.Pima <- merge(x = Pima.te, y = Pima.tr,\n",
        " by.x = c(\"bp\", \"bmi\"),\n",
        " by.y = c(\"bp\", \"bmi\")\n",
        ")\n",
        "print(merged.Pima)\n",
        "nrow(merged.Pima)"
      ],
      "metadata": {
        "colab": {
          "base_uri": "https://localhost:8080/",
          "height": 679
        },
        "id": "LWu2VSJiusfQ",
        "outputId": "1a5c2d2f-f1bb-41c6-8cbd-dbb5f64743b1"
      },
      "execution_count": null,
      "outputs": [
        {
          "output_type": "stream",
          "name": "stdout",
          "text": [
            "   bp  bmi npreg.x glu.x skin.x ped.x age.x type.x npreg.y glu.y skin.y ped.y\n",
            "1  60 33.8       1   117     23 0.466    27     No       2   125     20 0.088\n",
            "2  64 29.7       2    75     24 0.370    33     No       2   100     23 0.368\n",
            "3  64 31.2       5   189     33 0.583    29    Yes       3   158     13 0.295\n",
            "4  64 33.2       4   117     27 0.230    24     No       1    96     27 0.289\n",
            "5  66 38.1       3   115     39 0.150    28     No       1   114     36 0.289\n",
            "6  68 38.5       2   100     25 0.324    26     No       7   129     49 0.439\n",
            "7  70 27.4       1   116     28 0.204    21     No       0   124     20 0.254\n",
            "8  70 33.1       4    91     32 0.446    22     No       9   123     44 0.374\n",
            "9  70 35.4       9   124     33 0.282    34     No       6   134     23 0.542\n",
            "10 72 25.6       1   157     21 0.123    24     No       4    99     17 0.294\n",
            "11 72 37.7       5    95     33 0.370    27     No       6   103     32 0.324\n",
            "12 74 25.9       9   134     33 0.460    81     No       8   126     38 0.162\n",
            "13 74 25.9       1    95     21 0.673    36     No       8   126     38 0.162\n",
            "14 78 27.6       5    88     30 0.258    37     No       6   125     31 0.565\n",
            "15 78 27.6      10   122     31 0.512    45     No       6   125     31 0.565\n",
            "16 78 39.4       2   112     50 0.175    24     No       4   112     40 0.236\n",
            "17 88 34.5       1   117     24 0.403    40    Yes       4   127     11 0.598\n",
            "   age.y type.y\n",
            "1     31     No\n",
            "2     21     No\n",
            "3     24     No\n",
            "4     21     No\n",
            "5     21     No\n",
            "6     43    Yes\n",
            "7     36    Yes\n",
            "8     40     No\n",
            "9     29    Yes\n",
            "10    28     No\n",
            "11    55     No\n",
            "12    39     No\n",
            "13    39     No\n",
            "14    49    Yes\n",
            "15    49    Yes\n",
            "16    38     No\n",
            "17    28     No\n"
          ]
        },
        {
          "output_type": "display_data",
          "data": {
            "text/html": [
              "17"
            ],
            "text/markdown": "17",
            "text/latex": "17",
            "text/plain": [
              "[1] 17"
            ]
          },
          "metadata": {}
        }
      ]
    },
    {
      "cell_type": "markdown",
      "source": [
        "Melting and Casting"
      ],
      "metadata": {
        "id": "7XDeqYw1uxF0"
      }
    },
    {
      "cell_type": "code",
      "source": [
        "library(MASS)\n",
        "print(ships)"
      ],
      "metadata": {
        "colab": {
          "base_uri": "https://localhost:8080/"
        },
        "id": "o4D5YHb1u4L3",
        "outputId": "624529de-d423-4cb2-d092-08bafb7a116f"
      },
      "execution_count": null,
      "outputs": [
        {
          "output_type": "stream",
          "name": "stdout",
          "text": [
            "   type year period service incidents\n",
            "1     A   60     60     127         0\n",
            "2     A   60     75      63         0\n",
            "3     A   65     60    1095         3\n",
            "4     A   65     75    1095         4\n",
            "5     A   70     60    1512         6\n",
            "6     A   70     75    3353        18\n",
            "7     A   75     60       0         0\n",
            "8     A   75     75    2244        11\n",
            "9     B   60     60   44882        39\n",
            "10    B   60     75   17176        29\n",
            "11    B   65     60   28609        58\n",
            "12    B   65     75   20370        53\n",
            "13    B   70     60    7064        12\n",
            "14    B   70     75   13099        44\n",
            "15    B   75     60       0         0\n",
            "16    B   75     75    7117        18\n",
            "17    C   60     60    1179         1\n",
            "18    C   60     75     552         1\n",
            "19    C   65     60     781         0\n",
            "20    C   65     75     676         1\n",
            "21    C   70     60     783         6\n",
            "22    C   70     75    1948         2\n",
            "23    C   75     60       0         0\n",
            "24    C   75     75     274         1\n",
            "25    D   60     60     251         0\n",
            "26    D   60     75     105         0\n",
            "27    D   65     60     288         0\n",
            "28    D   65     75     192         0\n",
            "29    D   70     60     349         2\n",
            "30    D   70     75    1208        11\n",
            "31    D   75     60       0         0\n",
            "32    D   75     75    2051         4\n",
            "33    E   60     60      45         0\n",
            "34    E   60     75       0         0\n",
            "35    E   65     60     789         7\n",
            "36    E   65     75     437         7\n",
            "37    E   70     60    1157         5\n",
            "38    E   70     75    2161        12\n",
            "39    E   75     60       0         0\n",
            "40    E   75     75     542         1\n"
          ]
        }
      ]
    },
    {
      "cell_type": "markdown",
      "source": [
        "Melt the Data"
      ],
      "metadata": {
        "id": "-prfTNzVvIkb"
      }
    },
    {
      "cell_type": "code",
      "source": [
        "molten.ships <- melt(ships, id = c(\"type\",\"year\"))\n",
        "print(molten.ships)"
      ],
      "metadata": {
        "colab": {
          "base_uri": "https://localhost:8080/",
          "height": 89
        },
        "id": "zLxb3AXavKD1",
        "outputId": "b9046daf-b44c-4a94-e4c2-b857548818b8"
      },
      "execution_count": null,
      "outputs": [
        {
          "output_type": "error",
          "ename": "ERROR",
          "evalue": "Error in melt(ships, id = c(\"type\", \"year\")): could not find function \"melt\"\n",
          "traceback": [
            "Error in melt(ships, id = c(\"type\", \"year\")): could not find function \"melt\"\nTraceback:\n"
          ]
        }
      ]
    }
  ]
}