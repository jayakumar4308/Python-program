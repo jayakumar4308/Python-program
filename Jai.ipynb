{
  "nbformat": 4,
  "nbformat_minor": 0,
  "metadata": {
    "colab": {
      "provenance": [],
      "include_colab_link": true
    },
    "kernelspec": {
      "name": "ir",
      "display_name": "R"
    },
    "language_info": {
      "name": "R"
    }
  },
  "cells": [
    {
      "cell_type": "markdown",
      "metadata": {
        "id": "view-in-github",
        "colab_type": "text"
      },
      "source": [
        "<a href=\"https://colab.research.google.com/github/jayakumar4308/Python-program/blob/main/Jai.ipynb\" target=\"_parent\"><img src=\"https://colab.research.google.com/assets/colab-badge.svg\" alt=\"Open In Colab\"/></a>"
      ]
    },
    {
      "cell_type": "code",
      "execution_count": null,
      "metadata": {
        "colab": {
          "base_uri": "https://localhost:8080/"
        },
        "id": "DahxKJx-xh0-",
        "outputId": "669f96ae-0f44-4a0c-edd1-2f84fd666dc4"
      },
      "outputs": [
        {
          "output_type": "stream",
          "name": "stdout",
          "text": [
            "[1] 15\n"
          ]
        }
      ],
      "source": [
        "r <- 10\n",
        "y =5\n",
        "print(r+y)"
      ]
    },
    {
      "cell_type": "code",
      "source": [
        "# Create a list.\n",
        "list1 <- list(c(2,5,3),21.3,sin)\n",
        "# Print the list.\n",
        "print(list1)"
      ],
      "metadata": {
        "id": "jRPIYp7Pyxg4",
        "outputId": "a9f8f7b5-0590-4fcc-a0b2-9652a0adca52",
        "colab": {
          "base_uri": "https://localhost:8080/"
        }
      },
      "execution_count": null,
      "outputs": [
        {
          "output_type": "stream",
          "name": "stdout",
          "text": [
            "[[1]]\n",
            "[1] 2 5 3\n",
            "\n",
            "[[2]]\n",
            "[1] 21.3\n",
            "\n",
            "[[3]]\n",
            "function (x)  .Primitive(\"sin\")\n",
            "\n"
          ]
        }
      ]
    },
    {
      "cell_type": "code",
      "source": [
        "# Create a vector.\n",
        "apple <- c('red','green',\"yellow\")\n",
        "print(apple)\n",
        "# Get the class of the vector.\n",
        "print(class(apple))"
      ],
      "metadata": {
        "id": "L2UluLZi7qt-",
        "colab": {
          "base_uri": "https://localhost:8080/"
        },
        "outputId": "568c0951-51c8-43e8-9c02-c7e50e935a25"
      },
      "execution_count": null,
      "outputs": [
        {
          "output_type": "stream",
          "name": "stdout",
          "text": [
            "[1] \"red\"    \"green\"  \"yellow\"\n",
            "[1] \"character\"\n"
          ]
        }
      ]
    },
    {
      "cell_type": "code",
      "source": [
        "# Create a matrix.\n",
        "M = matrix( c('a','a','b','c','b','a'), nrow = 2, ncol = 3, byrow = TRUE)\n",
        "print(M)"
      ],
      "metadata": {
        "id": "mPR_7R0e7u5q",
        "colab": {
          "base_uri": "https://localhost:8080/"
        },
        "outputId": "5cf16e24-e727-4a50-b5c2-83a50f9f84b1"
      },
      "execution_count": null,
      "outputs": [
        {
          "output_type": "stream",
          "name": "stdout",
          "text": [
            "     [,1] [,2] [,3]\n",
            "[1,] \"a\"  \"a\"  \"b\" \n",
            "[2,] \"c\"  \"b\"  \"a\" \n"
          ]
        }
      ]
    },
    {
      "cell_type": "code",
      "source": [
        "# Create an array.\n",
        "a <- array(c('green','yellow'),dim = c(3,3,2))\n",
        "print(a)"
      ],
      "metadata": {
        "id": "2T4ReYGi71Xa",
        "colab": {
          "base_uri": "https://localhost:8080/"
        },
        "outputId": "ce79641f-0358-4891-997a-54866e46d8b2"
      },
      "execution_count": null,
      "outputs": [
        {
          "output_type": "stream",
          "name": "stdout",
          "text": [
            ", , 1\n",
            "\n",
            "     [,1]     [,2]     [,3]    \n",
            "[1,] \"green\"  \"yellow\" \"green\" \n",
            "[2,] \"yellow\" \"green\"  \"yellow\"\n",
            "[3,] \"green\"  \"yellow\" \"green\" \n",
            "\n",
            ", , 2\n",
            "\n",
            "     [,1]     [,2]     [,3]    \n",
            "[1,] \"yellow\" \"green\"  \"yellow\"\n",
            "[2,] \"green\"  \"yellow\" \"green\" \n",
            "[3,] \"yellow\" \"green\"  \"yellow\"\n",
            "\n"
          ]
        }
      ]
    },
    {
      "cell_type": "code",
      "source": [
        "# Create a vector.\n",
        "apple_colors <- c('green','green','yellow','red','red','red','green')\n",
        "# Create a factor object.\n",
        "factor_apple <- factor(apple_colors)\n",
        "# Print the factor.\n",
        "print(factor_apple)\n",
        "print(nlevels(factor_apple))"
      ],
      "metadata": {
        "id": "P_wsiD_176L9",
        "colab": {
          "base_uri": "https://localhost:8080/"
        },
        "outputId": "693ac2af-acf8-4bb0-f8e1-6b4b47edc824"
      },
      "execution_count": null,
      "outputs": [
        {
          "output_type": "stream",
          "name": "stdout",
          "text": [
            "[1] green  green  yellow red    red    red    green \n",
            "Levels: green red yellow\n",
            "[1] 3\n"
          ]
        }
      ]
    },
    {
      "cell_type": "code",
      "source": [
        "# Create the data frame.\n",
        "BMI <- data.frame(\n",
        "gender = c(\"Male\", \"Male\",\"Female\"),\n",
        "height = c(152, 171.5, 165),\n",
        "weight = c(81,93, 78),\n",
        "Age = c(42,38,26)\n",
        ")\n",
        "print(BMI)"
      ],
      "metadata": {
        "id": "H4O5GMoI7-fX",
        "colab": {
          "base_uri": "https://localhost:8080/"
        },
        "outputId": "bc232ef1-f287-475c-c00a-0fe58b786f69"
      },
      "execution_count": null,
      "outputs": [
        {
          "output_type": "stream",
          "name": "stdout",
          "text": [
            "  gender height weight Age\n",
            "1   Male  152.0     81  42\n",
            "2   Male  171.5     93  38\n",
            "3 Female  165.0     78  26\n"
          ]
        }
      ]
    },
    {
      "cell_type": "code",
      "source": [
        "# Assignment using equal operator.\n",
        "var.1 = c(0,1,2,3)\n",
        "# Assignment using leftward operator.\n",
        "var.2 <- c(\"learn\",\"R\")\n",
        "# Assignment using rightward operator.\n",
        "c(TRUE,1) -> var.3\n",
        "print(var.1)\n",
        "cat (\"var.1 is \", var.1 ,\"\\n\")\n",
        "cat (\"var.2 is \", var.2 ,\"\\n\")\n",
        "cat (\"var.3 is \", var.3 ,\"\\n\")"
      ],
      "metadata": {
        "id": "qOpDYxpp8HMe",
        "colab": {
          "base_uri": "https://localhost:8080/"
        },
        "outputId": "0e44eba6-ac7e-4cdd-d733-5ad43bcd72d8"
      },
      "execution_count": null,
      "outputs": [
        {
          "output_type": "stream",
          "name": "stdout",
          "text": [
            "[1] 0 1 2 3\n",
            "var.1 is  0 1 2 3 \n",
            "var.2 is  learn R \n",
            "var.3 is  1 1 \n"
          ]
        }
      ]
    },
    {
      "cell_type": "code",
      "source": [
        "var_x <- \"Hello\"\n",
        "cat(\"The class of var_x is \",class(var_x),\"\\n\")\n",
        "var_x <- 34.5\n",
        "cat(\" Now the class of var_x is \",class(var_x),\"\\n\")\n",
        "var_x <- 27L\n",
        "cat(\" Next the class of var_x becomes \",class(var_x),\"\\n\")"
      ],
      "metadata": {
        "id": "GYj_79lZ8Pfp",
        "colab": {
          "base_uri": "https://localhost:8080/"
        },
        "outputId": "f5c4d8e8-a56d-4057-d5ea-d66f8f920162"
      },
      "execution_count": null,
      "outputs": [
        {
          "output_type": "stream",
          "name": "stdout",
          "text": [
            "The class of var_x is  character \n",
            " Now the class of var_x is  numeric \n",
            " Next the class of var_x becomes  integer \n"
          ]
        }
      ]
    }
  ]
}